{
 "cells": [
  {
   "cell_type": "markdown",
   "metadata": {},
   "source": [
    "# Análisis de Datos\n",
    "\n",
    "Este cuaderno se utiliza para la recolección y análisis de datos del sistema energético híbrido. Incluye la conexión a APIs para descargar datos de generación solar y eólica, así como la visualización de estos datos."
   ]
  },
  {
   "cell_type": "code",
   "execution_count": null,
   "metadata": {
    "collapsed": false
   },
   "outputs": [],
   "source": [
    "import pandas as pd\n",
    "import matplotlib.pyplot as plt\n",
    "import requests\n",
    "\n",
    "# Función para obtener datos de la API de NREL\n",
    "def obtener_datos_nrel(api_url):\n",
    "    response = requests.get(api_url)\n",
    "    if response.status_code == 200:\n",
    "        return response.json()\n",
    "    else:\n",
    "        raise Exception('Error al obtener datos de NREL')\n",
    "\n",
    "# URL de ejemplo para obtener datos de irradiancia solar\n",
    "url_irradiancia = 'https://api.nrel.gov/v1/solar/solar_resource/latitud,longitud?api_key=tu_api_key'\n",
    "\n",
    "# Obtener datos de irradiancia\n",
    "datos_irradiancia = obtener_datos_nrel(url_irradiancia)\n",
    "\n",
    "# Procesar y visualizar los datos\n",
    "df_irradiancia = pd.DataFrame(datos_irradiancia['outputs'])\n",
    "plt.figure(figsize=(10, 5))\n",
    "plt.plot(df_irradiancia['fecha'], df_irradiancia['irradiancia'], label='Irradiancia Solar')\n",
    "plt.title('Irradiancia Solar a lo Largo del Tiempo')\n",
    "plt.xlabel('Fecha')\n",
    "plt.ylabel('Irradiancia (W/m²)')\n",
    "plt.legend()\n",
    "plt.grid()\n",
    "plt.show()"
   ]
  },
  {
   "cell_type": "markdown",
   "metadata": {},
   "source": [
    "## Análisis de Datos de Generación Eólica\n",
    "\n",
    "A continuación, se puede agregar el código para obtener y visualizar datos de generación eólica de una API similar."
   ]
  }
 ],
 "metadata": {
  "kernelspec": {
   "display_name": "Python 3",
   "language": "python",
   "name": "python3"
  },
  "language_info": {
   "codemirror_mode": {
    "name": "ipython",
    "version": 3
   },
   "file_extension": ".py",
   "mimetype": "text/x-python",
   "name": "python",
   "nbconvert_exporter": "python",
   "pygments_lexer": "ipython3",
   "version": "3.8.5"
  }
 },
 "nbformat": 4,
 "nbformat_minor": 4
}