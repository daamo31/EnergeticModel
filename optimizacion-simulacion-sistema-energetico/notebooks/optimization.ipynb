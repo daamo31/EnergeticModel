{
 "cells": [
  {
   "cell_type": "markdown",
   "metadata": {},
   "source": [
    "# Optimización del Sistema Energético Híbrido\n",
    "\n",
    "Este cuaderno se dedica a la formulación y resolución del problema de optimización del sistema energético híbrido, utilizando Pyomo o PuLP."
   ]
  },
  {
   "cell_type": "code",
   "execution_count": null,
   "metadata": {
    "id": "optimization-setup"
   },
   "outputs": [],
   "source": [
    "# Importar librerías necesarias\n",
    "import pandas as pd\n",
    "from pyomo.environ import *\n",
    "from pyomo.opt import SolverFactory\n",
    "\n",
    "# Cargar datos procesados\n",
    "data = pd.read_csv('../data/processed/energy_data.csv')\n",
    "\n",
    "# Definir parámetros del modelo\n",
    "cost_solar = 1000  # Costo por kW de panel solar\n",
    "cost_wind = 1500   # Costo por kW de turbina eólica\n",
    "cost_battery = 500  # Costo por kWh de batería\n",
    "demand = data['demand'].values  # Demanda energética\n",
    "emissions_limit = 1000  # Límite de emisiones de CO2\n",
    "\n",
    "# Crear modelo de optimización\n",
    "model = ConcreteModel()\n",
    "\n",
    "# Definir variables de decisión\n",
    "model.solar = Var(within=NonNegativeReals)  # kW de paneles solares\n",
    "model.wind = Var(within=NonNegativeReals)   # kW de turbinas eólicas\n",
    "model.battery = Var(within=NonNegativeReals)  # kWh de baterías\n",
    "\n",
    "# Definir función objetivo\n",
    "def objective_rule(model):\n",
    "    return (cost_solar * model.solar + cost_wind * model.wind + cost_battery * model.battery)\n",
    "model.objective = Objective(rule=objective_rule, sense=minimize)\n",
    "\n",
    "# Definir restricciones\n",
    "def demand_constraint(model, t):\n",
    "    return (model.solar + model.wind + model.battery) >= demand[t]\n",
    "model.demand_constraint = Constraint(range(len(demand)), rule=demand_constraint)\n",
    "\n",
    "# Resolver el modelo\n",
    "solver = SolverFactory('glpk')\n",
    "results = solver.solve(model)\n",
    "\n",
    "# Mostrar resultados\n",
    "model.display()"
   ]
  }
 ],
 "metadata": {
  "kernelspec": {
   "display_name": "Python 3",
   "language": "python",
   "name": "python3"
  },
  "language_info": {
   "codemirror_mode": {
    "name": "ipython",
    "version": 3
   },
   "file_extension": ".py",
   "mimetype": "text/x-python",
   "name": "python",
   "nbconvert_exporter": "python",
   "pygments_lexer": "ipython3",
   "version": "3.8.5"
  }
 },
 "nbformat": 4,
 "nbformat_minor": 4
}
