{
 "cells": [
  {
   "cell_type": "markdown",
   "metadata": {},
   "source": [
    "# Modelado Matemático del Sistema Energético\n",
    "\n",
    "Este cuaderno se centra en el modelado matemático del sistema energético híbrido, implementando las ecuaciones para la generación solar y eólica, así como el almacenamiento de energía."
   ]
  },
  {
   "cell_type": "code",
   "execution_count": 1,
   "metadata": {
    "id": "import-libraries"
   },
   "outputs": [
    {
     "name": "stdout",
     "output_type": "stream",
     "text": [
      "Todas las bibliotecas se importaron correctamente\n"
     ]
    }
   ],
   "source": [
    "# Importar bibliotecas necesarias\n",
    "import numpy as np\n",
    "import pandas as pd\n",
    "import pvlib\n",
    "import matplotlib.pyplot as plt\n",
    "import seaborn as sns\n",
    "from pyomo.environ import *\n",
    "from pyomo.opt import SolverFactory\n",
    "\n",
    "# Configuración de estilo para gráficos\n",
    "sns.set(style='whitegrid')\n",
    "\n",
    "print(\"Todas las bibliotecas se importaron correctamente\")"
   ]
  },
  {
   "cell_type": "markdown",
   "metadata": {},
   "source": [
    "## Definición de Parámetros\n",
    "\n",
    "Definimos los parámetros necesarios para el modelado de la generación solar y eólica."
   ]
  },
  {
   "cell_type": "code",
   "execution_count": 2,
   "metadata": {
    "id": "define-parameters"
   },
   "outputs": [],
   "source": [
    "# Parámetros del sistema\n",
    "latitude = 35.0  # Latitud de la región\n",
    "longitude = -120.0  # Longitud de la región\n",
    "tilt = 20  # Inclinación de los paneles solares\n",
    "azimuth = 180  # Azimut de los paneles solares\n",
    "turbine_height = 100  # Altura de la turbina eólica en metros\n",
    "turbine_capacity = 2.0  # Capacidad de la turbina en MW\n",
    "battery_capacity = 500  # Capacidad de la batería en kWh\n",
    "battery_efficiency = 0.9  # Eficiencia de carga/descarga de la batería"
   ]
  },
  {
   "cell_type": "markdown",
   "metadata": {},
   "source": [
    "## Modelado de Generación Solar\n",
    "\n",
    "Utilizamos PVLIB para modelar la generación de energía solar basada en datos de irradiancia."
   ]
  },
  {
   "cell_type": "code",
   "execution_count": 3,
   "metadata": {
    "id": "solar-generation-model"
   },
   "outputs": [
    {
     "name": "stdout",
     "output_type": "stream",
     "text": [
      "Generación solar: 12000.0 W\n"
     ]
    }
   ],
   "source": [
    "# Función para calcular la generación solar\n",
    "def solar_generation(irradiance, area, efficiency):\n",
    "    return irradiance * area * efficiency\n",
    "\n",
    "# Ejemplo de uso\n",
    "irradiance = 800  # W/m²\n",
    "area = 100  # m²\n",
    "efficiency = 0.15  # 15%\n",
    "generation_solar = solar_generation(irradiance, area, efficiency)\n",
    "print(f'Generación solar: {generation_solar} W')"
   ]
  },
  {
   "cell_type": "markdown",
   "metadata": {},
   "source": [
    "## Modelado de Generación Eólica\n",
    "\n",
    "Modelamos la generación de energía eólica utilizando la altura de la turbina y la velocidad del viento."
   ]
  },
  {
   "cell_type": "code",
   "execution_count": 4,
   "metadata": {
    "id": "wind-generation-model"
   },
   "outputs": [
    {
     "name": "stdout",
     "output_type": "stream",
     "text": [
      "Generación eólica: 2.0 MW\n"
     ]
    }
   ],
   "source": [
    "# Función para calcular la generación eólica\n",
    "def wind_generation(wind_speed, turbine_height, turbine_capacity):\n",
    "    # Simplificación del modelo de generación eólica\n",
    "    return min((0.5 * 1.225 * (wind_speed ** 3) * turbine_height) / 1000, turbine_capacity)\n",
    "\n",
    "# Ejemplo de uso\n",
    "wind_speed = 10  # m/s\n",
    "generation_wind = wind_generation(wind_speed, turbine_height, turbine_capacity)\n",
    "print(f'Generación eólica: {generation_wind} MW')"
   ]
  },
  {
   "cell_type": "markdown",
   "metadata": {},
   "source": [
    "## Modelado de Almacenamiento de Energía\n",
    "\n",
    "Modelamos la capacidad de almacenamiento de energía en baterías."
   ]
  },
  {
   "cell_type": "code",
   "execution_count": 5,
   "metadata": {
    "id": "battery-storage-model"
   },
   "outputs": [
    {
     "name": "stdout",
     "output_type": "stream",
     "text": [
      "Energía almacenada: 360.0 kWh\n"
     ]
    }
   ],
   "source": [
    "# Función para modelar el almacenamiento de energía\n",
    "def battery_storage(input_energy, battery_capacity, battery_efficiency):\n",
    "    stored_energy = min(input_energy * battery_efficiency, battery_capacity)\n",
    "    return stored_energy\n",
    "\n",
    "# Ejemplo de uso\n",
    "input_energy = 400  # kWh\n",
    "stored_energy = battery_storage(input_energy, battery_capacity, battery_efficiency)\n",
    "print(f'Energía almacenada: {stored_energy} kWh')"
   ]
  },
  {
   "cell_type": "markdown",
   "metadata": {},
   "source": [
    "## Conclusiones\n",
    "\n",
    "Hemos implementado el modelado matemático básico para la generación solar y eólica, así como el almacenamiento de energía. Estos modelos se utilizarán en la fase de optimización."
   ]
  }
 ],
 "metadata": {
  "kernelspec": {
   "display_name": "venv",
   "language": "python",
   "name": "python3"
  },
  "language_info": {
   "codemirror_mode": {
    "name": "ipython",
    "version": 3
   },
   "file_extension": ".py",
   "mimetype": "text/x-python",
   "name": "python",
   "nbconvert_exporter": "python",
   "pygments_lexer": "ipython3",
   "version": "3.12.4"
  }
 },
 "nbformat": 4,
 "nbformat_minor": 4
}
